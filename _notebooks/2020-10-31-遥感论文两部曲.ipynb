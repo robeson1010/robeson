{
 "cells": [
  {
   "cell_type": "markdown",
   "metadata": {},
   "source": [
    "# \"基于深度学习的微波遥感分类\"\n",
    "\n",
    "> A unique python library that extends the python programming language and provides utilities that enhance productivity.\n",
    "- author: Xin Zhang\n",
    "- toc: false\n",
    "- image: images/copied_from_nb/rs_img/noise.png\n",
    "- comments: true\n",
    "- hide: false\n",
    "- categories: [remote sensing,depp learnning]\n",
    "- permalink: /rs/\n",
    "- badges: true"
   ]
  },
  {
   "cell_type": "markdown",
   "metadata": {},
   "source": [
    "<!-- ![screenshot with code](fastcore_imgs/td.png) -->\n",
    "\n",
    "# 介绍\n",
    "基于深度学习，研发一个完整的微波数据使用的framework，主要分为两个部分，数据预处理和分类。\n",
    "\n",
    "\n"
   ]
  },
  {
   "cell_type": "markdown",
   "metadata": {},
   "source": [
    "## 数据预处理\n",
    "![screenshot with code](rs_img/noise.png)\n",
    "\n"
   ]
  },
  {
   "cell_type": "code",
   "execution_count": null,
   "metadata": {},
   "outputs": [],
   "source": []
  }
 ],
 "metadata": {
  "kernelspec": {
   "display_name": "Python [conda env:fastai]",
   "language": "python",
   "name": "conda-env-fastai-py"
  },
  "language_info": {
   "codemirror_mode": {
    "name": "ipython",
    "version": 3
   },
   "file_extension": ".py",
   "mimetype": "text/x-python",
   "name": "python",
   "nbconvert_exporter": "python",
   "pygments_lexer": "ipython3",
   "version": "3.8.5"
  }
 },
 "nbformat": 4,
 "nbformat_minor": 4
}
